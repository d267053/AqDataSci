{
 "cells": [
  {
   "cell_type": "code",
   "execution_count": 2,
   "id": "8962ccbb-856d-4ed8-8a6e-56d8367c3c9a",
   "metadata": {},
   "outputs": [],
   "source": [
    "import sys \n",
    "src_dir = '/Users/chun-dengwang/Repo/src' \n",
    "if src_dir not in sys.path: \n",
    "        sys.path.append(src_dir)\n",
    "import mypkg.mydata as md \n",
    "import mypkg.mymod as m"
   ]
  },
  {
   "cell_type": "code",
   "execution_count": 3,
   "id": "aaadbb3a-d24e-4c7f-bcb7-12b21686f2e6",
   "metadata": {},
   "outputs": [],
   "source": [
    "import pandas as pd\n",
    "import urllib\n",
    "import toolbox.tool as t"
   ]
  },
  {
   "cell_type": "code",
   "execution_count": 4,
   "id": "a1627daf-d896-458d-b810-059403a8c3fb",
   "metadata": {},
   "outputs": [
    {
     "name": "stdout",
     "output_type": "stream",
     "text": [
      "Sheet:\n",
      " ['Forklaring', 'biomasse 2005-2023']\n"
     ]
    }
   ],
   "source": [
    "# download dataset \n",
    "try:\n",
    " url='https://www.fiskeridir.no/Akvakultur/Tall-og-analyse/Biomassestatistikk/Biomassestatistikk-etter-fylke/_/attachment/download/07df1556-af14-45c8-9993-db5e22c64cbb:05566c7482b37a621b4dcdd8e7384c4c25bc5447/biostat-total-flk.xlsx'\n",
    " filepath = 'data/rawdata/BiomassStatistics2005-2023.xlsx'\n",
    " urllib.request.urlretrieve(url, filepath)\n",
    "except:\n",
    " print('reminder : source need to update')\n",
    "# df=pd.read_excel(filename)\n",
    "print('Sheet:\\n',pd.ExcelFile(filepath).sheet_names)\n",
    "df = pd.ExcelFile(filepath).parse(1)"
   ]
  },
  {
   "cell_type": "code",
   "execution_count": 5,
   "id": "1dc5baee-5641-4019-ae55-681a304c3127",
   "metadata": {},
   "outputs": [
    {
     "data": {
      "text/plain": [
       "Index(['ÅR', 'MÅNED_KODE', 'MÅNED', 'FYLKE', 'ARTSID', 'UTSETTSÅR',\n",
       "       'BEHFISK_STK', 'BIOMASSE_KG', 'UTSETT_SMOLT_STK', 'FORFORBRUK_KG',\n",
       "       'UTTAK_STK', 'UTTAK_KG', 'DØDFISK_STK', 'UTKAST_STK', 'RØMMING_STK',\n",
       "       'ANDRE_STK'],\n",
       "      dtype='object')"
      ]
     },
     "execution_count": 5,
     "metadata": {},
     "output_type": "execute_result"
    }
   ],
   "source": [
    "df.columns"
   ]
  },
  {
   "cell_type": "markdown",
   "id": "ce78dcf8-4fec-4318-a495-3452ed921cd3",
   "metadata": {},
   "source": [
    "# Create Translate dicts"
   ]
  },
  {
   "cell_type": "code",
   "execution_count": 16,
   "id": "14a4798a-478a-4955-ac6b-95e81ba7f747",
   "metadata": {},
   "outputs": [],
   "source": [
    "dict_list = df.columns.tolist()\n",
    "for col in ['FYLKE','ARTSID']:\n",
    "    new_list = df[col].unique().tolist()\n",
    "    dict_list = dict_list + new_list\n",
    "dict_df = pd.DataFrame(dict_list,columns = ['from'])\n",
    "dict_df['to']=[t.translate(x) for x in dict_df['from']]\n",
    "# dict_df.to_csv('data/temp/dict_df.csv',index=False)"
   ]
  },
  {
   "cell_type": "markdown",
   "id": "b5bd7581-9e99-4bda-900b-c34ab450733a",
   "metadata": {
    "tags": []
   },
   "source": [
    "# Reference\n",
    "- [Norwegian Directorate of Fisheries](https://www.fiskeridir.no/Akvakultur/Tall-og-analyse/Biomassestatistikk/Biomassestatistikk-etter-fylke)\n"
   ]
  }
 ],
 "metadata": {
  "kernelspec": {
   "display_name": "Python 3 (ipykernel)",
   "language": "python",
   "name": "python3"
  },
  "language_info": {
   "codemirror_mode": {
    "name": "ipython",
    "version": 3
   },
   "file_extension": ".py",
   "mimetype": "text/x-python",
   "name": "python",
   "nbconvert_exporter": "python",
   "pygments_lexer": "ipython3",
   "version": "3.9.16"
  }
 },
 "nbformat": 4,
 "nbformat_minor": 5
}
