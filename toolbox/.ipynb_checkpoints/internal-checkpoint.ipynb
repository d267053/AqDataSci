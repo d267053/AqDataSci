{
 "cells": [
  {
   "cell_type": "code",
   "execution_count": 1,
   "id": "8be74554-b347-42ad-9c92-cf5208178f80",
   "metadata": {},
   "outputs": [],
   "source": [
    "import pandas as pd"
   ]
  },
  {
   "cell_type": "markdown",
   "id": "4aa28558-2ca7-4f8c-88e7-d6994d7fc304",
   "metadata": {
    "tags": []
   },
   "source": [
    "# 1. Update dictionary"
   ]
  },
  {
   "cell_type": "code",
   "execution_count": 49,
   "id": "fd789353-c797-457d-8e35-2b603147875a",
   "metadata": {},
   "outputs": [],
   "source": [
    "county_name={'NORDLAND':'2_NORDLAND', 'VESTLAND':'5_VESTLAND', 'TROMS OG FINNMARK':'1_TROMS OG FINNMARK', \n",
    "               'AGDER':'6_ROGALAND OG AGDER', 'TRØNDELAG':'3_TRØNDELAG','ROGALAND':'6_ROGALAND OG AGDER',\n",
    "             'VIKEN':'7_VIKEN','MØRE OG ROMSDAL':'4_MØRE OG ROMSDAL', 'HORDALAND':'5_VESTLAND', \n",
    "             'TROMS':'1_TROMS OG FINNMARK','VESTFOLD OG TELEMARK':'7_VESTFOLD OG TELEMARK',\n",
    "             'FINNMARK':'1_TROMS OG FINNMARK','VEST-AGDER':'6_ROGALAND OG AGDER', \n",
    "             'SOGN OG FJORDANE':'5_VESTLAND', 'HEDMARK':'7_HEDMARK','INNLANDET':'7_INNLANDET','OSLO':'7_OSLO'}\n",
    "region_name={'2_NORDLAND':'1_North', '5_VESTLAND':'3_South', '1_TROMS OG FINNMARK':'1_North',\n",
    "       '6_ROGALAND OG AGDER':'3_South', '3_TRØNDELAG':'2_Central', '4_MØRE OG ROMSDAL':'2_Central',\n",
    "       '7_VESTFOLD OG TELEMARK':'4_Others','7_HEDMARK':'4_Others','7_VIKEN':'4_Others','7_OSLO':'4_Others','7_INNLANDET':'4_Others'}"
   ]
  },
  {
   "cell_type": "code",
   "execution_count": 50,
   "id": "4b4c7186-9ed2-48e9-95e2-80d6253d59e2",
   "metadata": {},
   "outputs": [],
   "source": [
    "### update dict_no_en\n",
    "\n",
    "dict_no_en=pd.read_csv('data/dict_no_en.csv')\n",
    "dict_no_en=dict_no_en.sort_values('from')\n",
    "\n",
    "# Get data from county_name\n",
    "county_name_df=pd.DataFrame()\n",
    "county_name_df['from']=county_name.keys()\n",
    "county_name_df['to']=county_name.values()\n",
    "\n",
    "# merge above two df and drop duplicated keys\n",
    "dict_no_en = pd.concat([county_name_df,dict_no_en])\n",
    "dict_no_en = dict_no_en.drop_duplicates(subset='from',keep='first')\n",
    "\n",
    "# #lower_case\n",
    "# dict_no_en['to']=dict_no_en['to'].str.lower()\n",
    "\n",
    "# sort \n",
    "dict_no_en=dict_no_en.sort_values('from')\n",
    "\n",
    "# save to csv file\n",
    "dict_no_en.to_csv('data/dict_no_en.csv',index=False)"
   ]
  },
  {
   "cell_type": "code",
   "execution_count": 56,
   "id": "66578a73-7c40-455a-b385-24cd44b36b72",
   "metadata": {},
   "outputs": [],
   "source": [
    "### create dict_county_region\n",
    "\n",
    "# Get data from county_name\n",
    "dict_county_region=pd.DataFrame()\n",
    "dict_county_region['from']=region_name.keys()\n",
    "dict_county_region['to']=region_name.values()\n",
    "\n",
    "# save to csv file\n",
    "dict_county_region.to_csv('data/dict_county_region.csv',index=False)"
   ]
  }
 ],
 "metadata": {
  "kernelspec": {
   "display_name": "Python 3 (ipykernel)",
   "language": "python",
   "name": "python3"
  },
  "language_info": {
   "codemirror_mode": {
    "name": "ipython",
    "version": 3
   },
   "file_extension": ".py",
   "mimetype": "text/x-python",
   "name": "python",
   "nbconvert_exporter": "python",
   "pygments_lexer": "ipython3",
   "version": "3.9.16"
  }
 },
 "nbformat": 4,
 "nbformat_minor": 5
}
