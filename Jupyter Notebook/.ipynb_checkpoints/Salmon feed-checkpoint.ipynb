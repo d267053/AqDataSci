{
 "cells": [
  {
   "cell_type": "code",
   "execution_count": 1,
   "metadata": {
    "executionInfo": {
     "elapsed": 856,
     "status": "ok",
     "timestamp": 1668088546955,
     "user": {
      "displayName": "Chun-Deng Wang",
      "userId": "14602562340194824679"
     },
     "user_tz": -60
    },
    "id": "kLrv8uT2rfwN"
   },
   "outputs": [],
   "source": [
    "import pandas as pd\n",
    "import requests"
   ]
  },
  {
   "cell_type": "markdown",
   "metadata": {
    "jp-MarkdownHeadingCollapsed": true,
    "tags": []
   },
   "source": [
    "# Data source & Reference\n",
    "  - [Barentswatch API documents](https://www.barentswatch.no/bwapi/openapi/index.html?urls.primaryName=Sustainability%20In%20Aquaculture%20API#/Datasets/get_v1_geodata_bki_dataset_feedcomposition)\n",
    "  - [Github connection example](https://github.com/barentswatch/barentswatch-api-examples)"
   ]
  },
  {
   "cell_type": "markdown",
   "metadata": {
    "id": "wPNGFEqUvgHP",
    "tags": []
   },
   "source": [
    "# 1. API token"
   ]
  },
  {
   "cell_type": "code",
   "execution_count": 2,
   "metadata": {
    "executionInfo": {
     "elapsed": 1933,
     "status": "ok",
     "timestamp": 1668088624267,
     "user": {
      "displayName": "Chun-Deng Wang",
      "userId": "14602562340194824679"
     },
     "user_tz": -60
    },
    "id": "POgXF9YrZ8lj"
   },
   "outputs": [],
   "source": [
    "#### Generate token\n",
    "\n",
    "def get_token():\n",
    "    import requests\n",
    "    from pprint import pprint\n",
    "\n",
    "    token_url='https://id.barentswatch.no/connect/token'\n",
    "    client_id='' # input your id\n",
    "    client_secret=''  # input your password\n",
    "\n",
    "\n",
    "    req = requests.post(token_url,data={'grant_type': 'client_credentials',\n",
    "            'client_id': client_id,\n",
    "            'client_secret': client_secret,\n",
    "            'scope': 'api'},headers={'content-type': 'application/x-www-form-urlencoded'})\n",
    "\n",
    "    req.raise_for_status()\n",
    "    tk=req.json()\n",
    "    token = tk['access_token']\n",
    "    \n",
    "    return token"
   ]
  },
  {
   "cell_type": "code",
   "execution_count": 3,
   "metadata": {},
   "outputs": [],
   "source": [
    "try:\n",
    "    token = get_token()\n",
    "except:\n",
    "    import sys\n",
    "    sys.path.append('../../src')\n",
    "    from mypkg.token import bw_get_token\n",
    "    token = bw_get_token()"
   ]
  },
  {
   "cell_type": "markdown",
   "metadata": {
    "tags": []
   },
   "source": [
    "# 2. Raw data"
   ]
  },
  {
   "cell_type": "code",
   "execution_count": 4,
   "metadata": {},
   "outputs": [],
   "source": [
    "# API connection for feed data\n",
    "def SalmonFeed(df='raw',token=token):\n",
    "  url='https://www.barentswatch.no/bwapi/v1/geodata/bki/dataset/feedcomposition'\n",
    "  headers ={\n",
    "    'authorization': 'Bearer ' + token,\n",
    "    'content-type': 'application/json',}\n",
    "  response = requests.get(url, headers=headers)\n",
    "  response.raise_for_status()\n",
    "  data_raw=response.json()\n",
    "  data=pd.DataFrame(data_raw)\n",
    "  FeedComposition = pd.DataFrame(data[list(data.keys())[0]]['data']) #Year: 2016 , Unit: metric ton\n",
    "  FishMealOrigin = pd.DataFrame(data[list(data.keys())[1]]['fish meal']).melt().dropna() #Year: 2016 , Unit: %\n",
    "  FishOilOrigin = pd.DataFrame(data[list(data.keys())[1]]['fish oil']).melt().dropna() #Year: 2016 , Unit: %\n",
    "  PlantIngredients = pd.DataFrame(data[list(data.keys())[2]]['data']) #Year: 2016 , Unit: metric ton\n",
    "  FeedComposition1990_2016 = pd.DataFrame(data[list(data.keys())[3]]['data']) #Year: 1990-2016 , Unit: %\n",
    "  \n",
    "  pre_result = [FeedComposition,FishMealOrigin,FishOilOrigin,PlantIngredients,FeedComposition1990_2016]\n",
    "  \n",
    "  if df == 'raw':\n",
    "    print('Select one dataframe:\\n',\n",
    "        'FeedComposition, FishMealOrigin, FishOilOrigin, PlantIngredients, FeedComposition1990_2016\\n\\n\\n')\n",
    "    result = data_raw\n",
    "  elif df == 'FeedComposition':\n",
    "    result = pre_result[0]\n",
    "  elif df == 'FishMealOrigin':\n",
    "    result = pre_result[1]\n",
    "  elif df == 'FishOilOrigin':\n",
    "    result = pre_result[2]\n",
    "  elif df == 'PlantIngredients':\n",
    "    result = pre_result[3]\n",
    "  elif df == 'FeedComposition1990_2016':\n",
    "    result = pre_result[4]\n",
    " \n",
    "  return result"
   ]
  },
  {
   "cell_type": "code",
   "execution_count": 17,
   "metadata": {},
   "outputs": [
    {
     "name": "stdout",
     "output_type": "stream",
     "text": [
      "# FeedComposition download successfully to: ../data/rawdata/FeedComposition.csv \n",
      " --------------------------\n",
      "\n",
      "                  protein     oil  binders  microingredients\n",
      "plant sources      655314  328205   172616             65422\n",
      "forage fisheries   190277  126760        0                 0\n",
      "by-products         46362   42521        0                 0\n",
      "total              891953  497486   172616             65422 \n",
      " =======================================================\n",
      "\n",
      "\n",
      "# FishMealOrigin download successfully to: ../data/rawdata/FishMealOrigin.csv \n",
      " --------------------------\n",
      "\n",
      "                                     variable  value\n",
      "0                              North Atlantic  90.49\n",
      "8   South Atlantic including African Atlantic   2.21\n",
      "16                               Mexican Gulf   0.37\n",
      "24                                    Pacific   3.28\n",
      "32                                     Others   0.48\n",
      "40            By-products from North Atlantic   3.18\n",
      "48              By-products from aqua culture      0 \n",
      " =======================================================\n",
      "\n",
      "\n",
      "# FishOilOrigin download successfully to: ../data/rawdata/FishOilOrigin.csv \n",
      " --------------------------\n",
      "\n",
      "                                     variable  value\n",
      "0                              North Atlantic  37.53\n",
      "8   South Atlantic including African Atlantic   4.26\n",
      "16                               Mexican Gulf  16.99\n",
      "24                                    Pacific  15.79\n",
      "32                                     Others   4.68\n",
      "40            By-products from North Atlantic  18.21\n",
      "48              By-products from aqua culture   2.53 \n",
      " =======================================================\n",
      "\n",
      "\n",
      "# PlantIngredients download successfully to: ../data/rawdata/PlantIngredients.csv \n",
      " --------------------------\n",
      "\n",
      "                         name       category   value\n",
      "0   Rapeseed and camelina oil            oil  322.58\n",
      "1     Soy protein concentrate        protein  309.71\n",
      "2                Wheat gluten        protein  146.27\n",
      "3                       Wheat  carbohydrates  144.61\n",
      "4                Maize gluten        protein   57.97\n",
      "5                   Fababeans        protein   54.75\n",
      "6     Other vegetable protein        protein   37.42\n",
      "7     Pea protein concentrate        protein   21.94\n",
      "8               Sunflowermeal        protein   18.55\n",
      "9   Other plant carbohydrates  carbohydrates   15.71\n",
      "10                 Pea starch  carbohydrates   12.30\n",
      "11          Sunflower protein        protein    8.69\n",
      "12                Linseed oil            oil    5.63 \n",
      " =======================================================\n",
      "\n",
      "\n",
      "# FeedComposition1990_2016 download successfully to: ../data/rawdata/FeedComposition1990_2016.csv \n",
      " --------------------------\n",
      "\n",
      "   year  microingredients  starch  plant oil  plant protein  marine oil  \\\n",
      "0  1990               1.0     9.6        0.0            0.0        24.0   \n",
      "1  2000               2.0    11.2        0.0           22.2        31.1   \n",
      "2  2010               2.2     8.4       12.5           35.5        16.6   \n",
      "3  2012               3.1    11.1       18.3           36.7        11.2   \n",
      "4  2013               3.7    11.2       19.2           36.7        10.9   \n",
      "5  2016               4.0    10.6       20.2           40.3        10.4   \n",
      "\n",
      "   marine protein  \n",
      "0            65.4  \n",
      "1            33.5  \n",
      "2            24.8  \n",
      "3            19.5  \n",
      "4            18.3  \n",
      "5            14.5   \n",
      " =======================================================\n",
      "\n",
      "\n"
     ]
    }
   ],
   "source": [
    "# # save as json file\n",
    "# import json\n",
    "# data = SalmonFeed()\n",
    "# with open(\"../data/rawdata/SalmonFeed.json\", \"w\") as write_file:\n",
    "#     json.dump(data, write_file)\n",
    "    \n",
    "# Save as csv file\n",
    "try:\n",
    "    for df in ['FeedComposition', 'FishMealOrigin', 'FishOilOrigin', 'PlantIngredients', 'FeedComposition1990_2016']:\n",
    "        path = f'../data/rawdata/{df}.csv'\n",
    "        SalmonFeed(df).to_csv(path)\n",
    "        print('#',df,'download successfully to:',path,'\\n --------------------------\\n')\n",
    "        print(SalmonFeed(df),'\\n =======================================================\\n\\n',)\n",
    "except:\n",
    "    print('need to check source url or API token')"
   ]
  },
  {
   "cell_type": "markdown",
   "metadata": {
    "tags": []
   },
   "source": [
    "# 3. Data Processing for Tableau"
   ]
  },
  {
   "cell_type": "code",
   "execution_count": 7,
   "metadata": {},
   "outputs": [],
   "source": [
    "# loading data from data/rawdata\n",
    "for df in ['FeedComposition', 'FishMealOrigin', 'FishOilOrigin', 'PlantIngredients', 'FeedComposition1990_2016']:\n",
    "    path = f'../data/rawdata/{df}.csv'\n",
    "    globals()[df]=pd.read_csv(path)"
   ]
  },
  {
   "cell_type": "markdown",
   "metadata": {},
   "source": [
    "- **Feed Composition 1990_2016** "
   ]
  },
  {
   "cell_type": "code",
   "execution_count": 8,
   "metadata": {},
   "outputs": [],
   "source": [
    "# convert wide df to long df\n",
    "FeedComposition1990_2016=FeedComposition1990_2016.melt(id_vars=['year'], var_name='ingredient', value_name='value(%)')\n",
    "\n",
    "# add source category column\n",
    "marine_source = FeedComposition1990_2016['ingredient'].isin(['marine protein',\"marine oil\"])\n",
    "\n",
    "FeedComposition1990_2016.loc[marine_source,'source']='marine source'\n",
    "FeedComposition1990_2016.loc[~marine_source,'source']='plant source'\n",
    "# FeedComposition1990_2016.to_csv('/Users/chun-dengwang/Documents/Tableau/Feed/FeedComposition1990_2016.csv')"
   ]
  },
  {
   "cell_type": "markdown",
   "metadata": {},
   "source": [
    "- **Fish Meal & Oil orgin** "
   ]
  },
  {
   "cell_type": "code",
   "execution_count": 9,
   "metadata": {},
   "outputs": [],
   "source": [
    "## Megre fish meal orgin and fish oil orgin to one\n",
    "\n",
    "FishMealOrigin['category']='Fish meal'\n",
    "FishOilOrigin['category']='Fish oil'\n",
    "FishMealOil = pd.concat([FishMealOrigin,FishOilOrigin])"
   ]
  },
  {
   "cell_type": "markdown",
   "metadata": {},
   "source": [
    "- **Plant Ingredients** "
   ]
  },
  {
   "cell_type": "code",
   "execution_count": 10,
   "metadata": {},
   "outputs": [],
   "source": [
    "# Rev PlantIngredients' category to match with FeedComposition1990_2016's ingredients col\n",
    "PlantIngredients = SalmonFeed('PlantIngredients').replace({'oil':'plant oil','protein':'plant protein','carbohydrates':'starch'})"
   ]
  },
  {
   "cell_type": "markdown",
   "metadata": {},
   "source": [
    "- **Feed Composition** "
   ]
  },
  {
   "cell_type": "code",
   "execution_count": 11,
   "metadata": {},
   "outputs": [],
   "source": [
    "FeedComposition=FeedComposition.reset_index().melt(id_vars='index').rename(columns={'index':'ingredient','variable':'category','value':'value (ton)'})\n",
    "FeedComposition=FeedComposition.query('ingredient!=\"total\"')\n",
    "\n",
    "microingredients=FeedComposition.category=='microingredients'\n",
    "starch=FeedComposition.category=='binders'\n",
    "plant_oil =(FeedComposition.ingredient== 'plant sources') & (FeedComposition.category=='oil')\n",
    "plant_protein = (FeedComposition.ingredient== 'plant sources') & (FeedComposition.category=='protein')\n",
    "marine_oil =(FeedComposition.ingredient.isin(['forage fisheries','by-products'])) & (FeedComposition.category=='oil')\n",
    "marine_protein =(FeedComposition.ingredient.isin(['forage fisheries','by-products'])) & (FeedComposition.category=='protein')\n",
    "\n",
    "FeedComposition.loc[microingredients,'sub_category']='microingredients'\n",
    "FeedComposition.loc[starch,'sub_category']='starch'\n",
    "FeedComposition.loc[plant_oil,'sub_category']='plant oil'\n",
    "FeedComposition.loc[plant_protein,'sub_category']='plant protein'\n",
    "FeedComposition.loc[marine_oil,'sub_category']='marine oil'\n",
    "FeedComposition.loc[marine_protein,'sub_category']='marine protein'"
   ]
  },
  {
   "cell_type": "markdown",
   "metadata": {},
   "source": [
    "- **Fish ingredient** "
   ]
  },
  {
   "cell_type": "code",
   "execution_count": 12,
   "metadata": {},
   "outputs": [],
   "source": [
    "FishIngredients=FeedComposition[FeedComposition['ingredient'].isin([\"forage fisheries\", \"by-products\"]) & (FeedComposition['value (ton)']>0)]"
   ]
  },
  {
   "cell_type": "markdown",
   "metadata": {},
   "source": [
    "# 4. Save result to data folder"
   ]
  },
  {
   "cell_type": "code",
   "execution_count": 13,
   "metadata": {},
   "outputs": [
    {
     "name": "stdout",
     "output_type": "stream",
     "text": [
      "# FeedComposition1990_2016 \n",
      "------------------\n",
      "     year        ingredient  value(%)         source\n",
      "0   1990        Unnamed: 0       0.0   plant source\n",
      "1   2000        Unnamed: 0       1.0   plant source\n",
      "2   2010        Unnamed: 0       2.0   plant source\n",
      "3   2012        Unnamed: 0       3.0   plant source\n",
      "4   2013        Unnamed: 0       4.0   plant source\n",
      "5   2016        Unnamed: 0       5.0   plant source\n",
      "6   1990  microingredients       1.0   plant source\n",
      "7   2000  microingredients       2.0   plant source\n",
      "8   2010  microingredients       2.2   plant source\n",
      "9   2012  microingredients       3.1   plant source\n",
      "10  2013  microingredients       3.7   plant source\n",
      "11  2016  microingredients       4.0   plant source\n",
      "12  1990            starch       9.6   plant source\n",
      "13  2000            starch      11.2   plant source\n",
      "14  2010            starch       8.4   plant source\n",
      "15  2012            starch      11.1   plant source\n",
      "16  2013            starch      11.2   plant source\n",
      "17  2016            starch      10.6   plant source\n",
      "18  1990         plant oil       0.0   plant source\n",
      "19  2000         plant oil       0.0   plant source\n",
      "20  2010         plant oil      12.5   plant source\n",
      "21  2012         plant oil      18.3   plant source\n",
      "22  2013         plant oil      19.2   plant source\n",
      "23  2016         plant oil      20.2   plant source\n",
      "24  1990     plant protein       0.0   plant source\n",
      "25  2000     plant protein      22.2   plant source\n",
      "26  2010     plant protein      35.5   plant source\n",
      "27  2012     plant protein      36.7   plant source\n",
      "28  2013     plant protein      36.7   plant source\n",
      "29  2016     plant protein      40.3   plant source\n",
      "30  1990        marine oil      24.0  marine source\n",
      "31  2000        marine oil      31.1  marine source\n",
      "32  2010        marine oil      16.6  marine source\n",
      "33  2012        marine oil      11.2  marine source\n",
      "34  2013        marine oil      10.9  marine source\n",
      "35  2016        marine oil      10.4  marine source\n",
      "36  1990    marine protein      65.4  marine source\n",
      "37  2000    marine protein      33.5  marine source\n",
      "38  2010    marine protein      24.8  marine source\n",
      "39  2012    marine protein      19.5  marine source\n",
      "40  2013    marine protein      18.3  marine source\n",
      "41  2016    marine protein      14.5  marine source \n",
      "==============================================================================\n",
      "saved successfully: ../data/FeedComposition1990_2016.csv \n",
      "\n",
      "# FishMealOil \n",
      "------------------\n",
      "                                      variable  value   category\n",
      "0                              North Atlantic  90.49  Fish meal\n",
      "8   South Atlantic including African Atlantic   2.21  Fish meal\n",
      "16                               Mexican Gulf   0.37  Fish meal\n",
      "24                                    Pacific   3.28  Fish meal\n",
      "32                                     Others   0.48  Fish meal\n",
      "40            By-products from North Atlantic   3.18  Fish meal\n",
      "48              By-products from aqua culture      0  Fish meal\n",
      "0                              North Atlantic  37.53   Fish oil\n",
      "8   South Atlantic including African Atlantic   4.26   Fish oil\n",
      "16                               Mexican Gulf  16.99   Fish oil\n",
      "24                                    Pacific  15.79   Fish oil\n",
      "32                                     Others   4.68   Fish oil\n",
      "40            By-products from North Atlantic  18.21   Fish oil\n",
      "48              By-products from aqua culture   2.53   Fish oil \n",
      "==============================================================================\n",
      "saved successfully: ../data/FishMealOil.csv \n",
      "\n",
      "# PlantIngredients \n",
      "------------------\n",
      "                          name       category   value\n",
      "0   Rapeseed and camelina oil      plant oil  322.58\n",
      "1     Soy protein concentrate  plant protein  309.71\n",
      "2                Wheat gluten  plant protein  146.27\n",
      "3                       Wheat         starch  144.61\n",
      "4                Maize gluten  plant protein   57.97\n",
      "5                   Fababeans  plant protein   54.75\n",
      "6     Other vegetable protein  plant protein   37.42\n",
      "7     Pea protein concentrate  plant protein   21.94\n",
      "8               Sunflowermeal  plant protein   18.55\n",
      "9   Other plant carbohydrates         starch   15.71\n",
      "10                 Pea starch         starch   12.30\n",
      "11          Sunflower protein  plant protein    8.69\n",
      "12                Linseed oil      plant oil    5.63 \n",
      "==============================================================================\n",
      "saved successfully: ../data/PlantIngredients.csv \n",
      "\n",
      "# FeedComposition \n",
      "------------------\n",
      "           ingredient          category  value (ton)      sub_category\n",
      "0      plant sources           protein       655314     plant protein\n",
      "1   forage fisheries           protein       190277    marine protein\n",
      "2        by-products           protein        46362    marine protein\n",
      "4      plant sources               oil       328205         plant oil\n",
      "5   forage fisheries               oil       126760        marine oil\n",
      "6        by-products               oil        42521        marine oil\n",
      "8      plant sources           binders       172616            starch\n",
      "9   forage fisheries           binders            0            starch\n",
      "10       by-products           binders            0            starch\n",
      "12     plant sources  microingredients        65422  microingredients\n",
      "13  forage fisheries  microingredients            0  microingredients\n",
      "14       by-products  microingredients            0  microingredients \n",
      "==============================================================================\n",
      "saved successfully: ../data/FeedComposition.csv \n",
      "\n",
      "# FishIngredients \n",
      "------------------\n",
      "          ingredient category  value (ton)    sub_category\n",
      "1  forage fisheries  protein       190277  marine protein\n",
      "2       by-products  protein        46362  marine protein\n",
      "5  forage fisheries      oil       126760      marine oil\n",
      "6       by-products      oil        42521      marine oil \n",
      "==============================================================================\n",
      "saved successfully: ../data/FishIngredients.csv \n",
      "\n"
     ]
    }
   ],
   "source": [
    "# Print dataframe\n",
    "for df in ['FeedComposition1990_2016', 'FishMealOil', 'PlantIngredients', 'FeedComposition', 'FishIngredients']:\n",
    "    print('#',df,'\\n------------------\\n',globals()[df],'\\n==============================================================================')\n",
    "    path = f'../data/{df}.csv'\n",
    "    globals()[df].to_csv(path)\n",
    "    print('Saved successfully to:',path,'\\n')"
   ]
  }
 ],
 "metadata": {
  "colab": {
   "authorship_tag": "ABX9TyNkTo3/hYHZ661D/J7vhcYh",
   "provenance": []
  },
  "kernelspec": {
   "display_name": "Python 3 (ipykernel)",
   "language": "python",
   "name": "python3"
  },
  "language_info": {
   "codemirror_mode": {
    "name": "ipython",
    "version": 3
   },
   "file_extension": ".py",
   "mimetype": "text/x-python",
   "name": "python",
   "nbconvert_exporter": "python",
   "pygments_lexer": "ipython3",
   "version": "3.9.16"
  }
 },
 "nbformat": 4,
 "nbformat_minor": 4
}
